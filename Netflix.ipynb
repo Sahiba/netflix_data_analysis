{
 "cells": [
  {
   "cell_type": "code",
   "execution_count": 1,
   "id": "5bdb7b1b-7699-49f6-bb1a-276efe308e1e",
   "metadata": {},
   "outputs": [],
   "source": [
    "import pandas as pd\n",
    "import numpy as np"
   ]
  },
  {
   "cell_type": "code",
   "execution_count": 2,
   "id": "22ef9dc7-093d-46fa-848f-2d09344401d5",
   "metadata": {},
   "outputs": [],
   "source": [
    "file_path = 'netflix_data.csv'\n",
    "netflix = pd.read_csv(file_path)"
   ]
  },
  {
   "cell_type": "code",
   "execution_count": 3,
   "id": "44fbf99e-80d4-407b-8768-ddd8ac238d6a",
   "metadata": {},
   "outputs": [
    {
     "data": {
      "text/html": [
       "<div>\n",
       "<style scoped>\n",
       "    .dataframe tbody tr th:only-of-type {\n",
       "        vertical-align: middle;\n",
       "    }\n",
       "\n",
       "    .dataframe tbody tr th {\n",
       "        vertical-align: top;\n",
       "    }\n",
       "\n",
       "    .dataframe thead th {\n",
       "        text-align: right;\n",
       "    }\n",
       "</style>\n",
       "<table border=\"1\" class=\"dataframe\">\n",
       "  <thead>\n",
       "    <tr style=\"text-align: right;\">\n",
       "      <th></th>\n",
       "      <th>show_id</th>\n",
       "      <th>type</th>\n",
       "      <th>title</th>\n",
       "      <th>director</th>\n",
       "      <th>country</th>\n",
       "      <th>date_added</th>\n",
       "      <th>release_year</th>\n",
       "      <th>rating</th>\n",
       "      <th>duration</th>\n",
       "      <th>listed_in</th>\n",
       "    </tr>\n",
       "  </thead>\n",
       "  <tbody>\n",
       "    <tr>\n",
       "      <th>0</th>\n",
       "      <td>s1</td>\n",
       "      <td>Movie</td>\n",
       "      <td>Dick Johnson Is Dead</td>\n",
       "      <td>Kirsten Johnson</td>\n",
       "      <td>United States</td>\n",
       "      <td>9/25/2021</td>\n",
       "      <td>2020.0</td>\n",
       "      <td>PG-13</td>\n",
       "      <td>90 min</td>\n",
       "      <td>Documentaries</td>\n",
       "    </tr>\n",
       "    <tr>\n",
       "      <th>1</th>\n",
       "      <td>s3</td>\n",
       "      <td>TV Show</td>\n",
       "      <td>Ganglands</td>\n",
       "      <td>Julien Leclercq</td>\n",
       "      <td>France</td>\n",
       "      <td>9/24/2021</td>\n",
       "      <td>2021.0</td>\n",
       "      <td>TV-MA</td>\n",
       "      <td>1 Season</td>\n",
       "      <td>Crime TV Shows, International TV Shows, TV Act...</td>\n",
       "    </tr>\n",
       "    <tr>\n",
       "      <th>2</th>\n",
       "      <td>s6</td>\n",
       "      <td>TV Show</td>\n",
       "      <td>Midnight Mass</td>\n",
       "      <td>Mike Flanagan</td>\n",
       "      <td>United States</td>\n",
       "      <td>9/24/2021</td>\n",
       "      <td>2021.0</td>\n",
       "      <td>TV-MA</td>\n",
       "      <td>1 Season</td>\n",
       "      <td>TV Dramas, TV Horror, TV Mysteries</td>\n",
       "    </tr>\n",
       "    <tr>\n",
       "      <th>3</th>\n",
       "      <td>s14</td>\n",
       "      <td>Movie</td>\n",
       "      <td>Confessions of an Invisible Girl</td>\n",
       "      <td>Bruno Garotti</td>\n",
       "      <td>Brazil</td>\n",
       "      <td>9/22/2021</td>\n",
       "      <td>2021.0</td>\n",
       "      <td>TV-PG</td>\n",
       "      <td>91 min</td>\n",
       "      <td>Children &amp; Family Movies, Comedies</td>\n",
       "    </tr>\n",
       "    <tr>\n",
       "      <th>4</th>\n",
       "      <td>s8</td>\n",
       "      <td>Movie</td>\n",
       "      <td>Sankofa</td>\n",
       "      <td>Haile Gerima</td>\n",
       "      <td>United States</td>\n",
       "      <td>9/24/2021</td>\n",
       "      <td>1993.0</td>\n",
       "      <td>TV-MA</td>\n",
       "      <td>125 min</td>\n",
       "      <td>Dramas, Independent Movies, International Movies</td>\n",
       "    </tr>\n",
       "    <tr>\n",
       "      <th>5</th>\n",
       "      <td>s9</td>\n",
       "      <td>TV Show</td>\n",
       "      <td>The Great British Baking Show</td>\n",
       "      <td>Andy Devonshire</td>\n",
       "      <td>United Kingdom</td>\n",
       "      <td>9/24/2021</td>\n",
       "      <td>2021.0</td>\n",
       "      <td>TV-14</td>\n",
       "      <td>9 Seasons</td>\n",
       "      <td>British TV Shows, Reality TV</td>\n",
       "    </tr>\n",
       "    <tr>\n",
       "      <th>6</th>\n",
       "      <td>s10</td>\n",
       "      <td>Movie</td>\n",
       "      <td>The Starling</td>\n",
       "      <td>Theodore Melfi</td>\n",
       "      <td>United States</td>\n",
       "      <td>9/24/2021</td>\n",
       "      <td>2021.0</td>\n",
       "      <td>PG-13</td>\n",
       "      <td>104 min</td>\n",
       "      <td>Comedies, Dramas</td>\n",
       "    </tr>\n",
       "    <tr>\n",
       "      <th>7</th>\n",
       "      <td>s939</td>\n",
       "      <td>Movie</td>\n",
       "      <td>Motu Patlu in the Game of Zones</td>\n",
       "      <td>Suhas Kadav</td>\n",
       "      <td>India</td>\n",
       "      <td>5/1/2021</td>\n",
       "      <td>2019.0</td>\n",
       "      <td>TV-Y7</td>\n",
       "      <td>87 min</td>\n",
       "      <td>Children &amp; Family Movies, Comedies, Music &amp; Mu...</td>\n",
       "    </tr>\n",
       "    <tr>\n",
       "      <th>8</th>\n",
       "      <td>s13</td>\n",
       "      <td>Movie</td>\n",
       "      <td>Je Suis Karl</td>\n",
       "      <td>Christian Schwochow</td>\n",
       "      <td>Germany</td>\n",
       "      <td>9/23/2021</td>\n",
       "      <td>2021.0</td>\n",
       "      <td>TV-MA</td>\n",
       "      <td>127 min</td>\n",
       "      <td>Dramas, International Movies</td>\n",
       "    </tr>\n",
       "    <tr>\n",
       "      <th>9</th>\n",
       "      <td>s940</td>\n",
       "      <td>Movie</td>\n",
       "      <td>Motu Patlu in Wonderland</td>\n",
       "      <td>Suhas Kadav</td>\n",
       "      <td>India</td>\n",
       "      <td>5/1/2021</td>\n",
       "      <td>2013.0</td>\n",
       "      <td>TV-Y7</td>\n",
       "      <td>76 min</td>\n",
       "      <td>Children &amp; Family Movies, Music &amp; Musicals</td>\n",
       "    </tr>\n",
       "  </tbody>\n",
       "</table>\n",
       "</div>"
      ],
      "text/plain": [
       "  show_id     type                             title             director  \\\n",
       "0      s1    Movie              Dick Johnson Is Dead      Kirsten Johnson   \n",
       "1      s3  TV Show                         Ganglands      Julien Leclercq   \n",
       "2      s6  TV Show                     Midnight Mass        Mike Flanagan   \n",
       "3     s14    Movie  Confessions of an Invisible Girl        Bruno Garotti   \n",
       "4      s8    Movie                           Sankofa         Haile Gerima   \n",
       "5      s9  TV Show     The Great British Baking Show      Andy Devonshire   \n",
       "6     s10    Movie                      The Starling       Theodore Melfi   \n",
       "7    s939    Movie   Motu Patlu in the Game of Zones          Suhas Kadav   \n",
       "8     s13    Movie                      Je Suis Karl  Christian Schwochow   \n",
       "9    s940    Movie          Motu Patlu in Wonderland          Suhas Kadav   \n",
       "\n",
       "          country date_added  release_year rating   duration  \\\n",
       "0   United States  9/25/2021        2020.0  PG-13     90 min   \n",
       "1          France  9/24/2021        2021.0  TV-MA   1 Season   \n",
       "2   United States  9/24/2021        2021.0  TV-MA   1 Season   \n",
       "3          Brazil  9/22/2021        2021.0  TV-PG     91 min   \n",
       "4   United States  9/24/2021        1993.0  TV-MA    125 min   \n",
       "5  United Kingdom  9/24/2021        2021.0  TV-14  9 Seasons   \n",
       "6   United States  9/24/2021        2021.0  PG-13    104 min   \n",
       "7           India   5/1/2021        2019.0  TV-Y7     87 min   \n",
       "8         Germany  9/23/2021        2021.0  TV-MA    127 min   \n",
       "9           India   5/1/2021        2013.0  TV-Y7     76 min   \n",
       "\n",
       "                                           listed_in  \n",
       "0                                      Documentaries  \n",
       "1  Crime TV Shows, International TV Shows, TV Act...  \n",
       "2                 TV Dramas, TV Horror, TV Mysteries  \n",
       "3                 Children & Family Movies, Comedies  \n",
       "4   Dramas, Independent Movies, International Movies  \n",
       "5                       British TV Shows, Reality TV  \n",
       "6                                   Comedies, Dramas  \n",
       "7  Children & Family Movies, Comedies, Music & Mu...  \n",
       "8                       Dramas, International Movies  \n",
       "9         Children & Family Movies, Music & Musicals  "
      ]
     },
     "execution_count": 3,
     "metadata": {},
     "output_type": "execute_result"
    }
   ],
   "source": [
    "netflix.head(10)"
   ]
  },
  {
   "cell_type": "code",
   "execution_count": 4,
   "id": "0dc76267-b60c-4261-b068-b1fd716831b7",
   "metadata": {},
   "outputs": [
    {
     "name": "stdout",
     "output_type": "stream",
     "text": [
      "<class 'pandas.core.frame.DataFrame'>\n",
      "RangeIndex: 8793 entries, 0 to 8792\n",
      "Data columns (total 10 columns):\n",
      " #   Column        Non-Null Count  Dtype  \n",
      "---  ------        --------------  -----  \n",
      " 0   show_id       8793 non-null   object \n",
      " 1   type          8793 non-null   object \n",
      " 2   title         8791 non-null   object \n",
      " 3   director      8740 non-null   object \n",
      " 4   country       8786 non-null   object \n",
      " 5   date_added    8793 non-null   object \n",
      " 6   release_year  8792 non-null   float64\n",
      " 7   rating        8793 non-null   object \n",
      " 8   duration      8787 non-null   object \n",
      " 9   listed_in     8791 non-null   object \n",
      "dtypes: float64(1), object(9)\n",
      "memory usage: 687.1+ KB\n"
     ]
    }
   ],
   "source": [
    "netflix.info()"
   ]
  },
  {
   "cell_type": "code",
   "execution_count": 5,
   "id": "562da2af-462b-4c1f-9f81-e961d46f7c40",
   "metadata": {},
   "outputs": [
    {
     "data": {
      "text/plain": [
       "(8793, 10)"
      ]
     },
     "execution_count": 5,
     "metadata": {},
     "output_type": "execute_result"
    }
   ],
   "source": [
    "netflix.shape"
   ]
  },
  {
   "cell_type": "code",
   "execution_count": 6,
   "id": "a739dbb3-c78a-46df-b39a-a1f4262329e3",
   "metadata": {},
   "outputs": [
    {
     "data": {
      "text/html": [
       "<div>\n",
       "<style scoped>\n",
       "    .dataframe tbody tr th:only-of-type {\n",
       "        vertical-align: middle;\n",
       "    }\n",
       "\n",
       "    .dataframe tbody tr th {\n",
       "        vertical-align: top;\n",
       "    }\n",
       "\n",
       "    .dataframe thead th {\n",
       "        text-align: right;\n",
       "    }\n",
       "</style>\n",
       "<table border=\"1\" class=\"dataframe\">\n",
       "  <thead>\n",
       "    <tr style=\"text-align: right;\">\n",
       "      <th></th>\n",
       "      <th>show_id</th>\n",
       "      <th>type</th>\n",
       "      <th>title</th>\n",
       "      <th>director</th>\n",
       "      <th>country</th>\n",
       "      <th>date_added</th>\n",
       "      <th>release_year</th>\n",
       "      <th>rating</th>\n",
       "      <th>duration</th>\n",
       "      <th>listed_in</th>\n",
       "    </tr>\n",
       "  </thead>\n",
       "  <tbody>\n",
       "    <tr>\n",
       "      <th>0</th>\n",
       "      <td>s1</td>\n",
       "      <td>Movie</td>\n",
       "      <td>Dick Johnson Is Dead</td>\n",
       "      <td>Kirsten Johnson</td>\n",
       "      <td>United States</td>\n",
       "      <td>9/25/2021</td>\n",
       "      <td>2020.0</td>\n",
       "      <td>PG-13</td>\n",
       "      <td>90 min</td>\n",
       "      <td>Documentaries</td>\n",
       "    </tr>\n",
       "    <tr>\n",
       "      <th>1</th>\n",
       "      <td>s3</td>\n",
       "      <td>TV Show</td>\n",
       "      <td>Ganglands</td>\n",
       "      <td>Julien Leclercq</td>\n",
       "      <td>France</td>\n",
       "      <td>9/24/2021</td>\n",
       "      <td>2021.0</td>\n",
       "      <td>TV-MA</td>\n",
       "      <td>1 Season</td>\n",
       "      <td>Crime TV Shows, International TV Shows, TV Act...</td>\n",
       "    </tr>\n",
       "    <tr>\n",
       "      <th>2</th>\n",
       "      <td>s6</td>\n",
       "      <td>TV Show</td>\n",
       "      <td>Midnight Mass</td>\n",
       "      <td>Mike Flanagan</td>\n",
       "      <td>United States</td>\n",
       "      <td>9/24/2021</td>\n",
       "      <td>2021.0</td>\n",
       "      <td>TV-MA</td>\n",
       "      <td>1 Season</td>\n",
       "      <td>TV Dramas, TV Horror, TV Mysteries</td>\n",
       "    </tr>\n",
       "    <tr>\n",
       "      <th>3</th>\n",
       "      <td>s14</td>\n",
       "      <td>Movie</td>\n",
       "      <td>Confessions of an Invisible Girl</td>\n",
       "      <td>Bruno Garotti</td>\n",
       "      <td>Brazil</td>\n",
       "      <td>9/22/2021</td>\n",
       "      <td>2021.0</td>\n",
       "      <td>TV-PG</td>\n",
       "      <td>91 min</td>\n",
       "      <td>Children &amp; Family Movies, Comedies</td>\n",
       "    </tr>\n",
       "    <tr>\n",
       "      <th>4</th>\n",
       "      <td>s8</td>\n",
       "      <td>Movie</td>\n",
       "      <td>Sankofa</td>\n",
       "      <td>Haile Gerima</td>\n",
       "      <td>United States</td>\n",
       "      <td>9/24/2021</td>\n",
       "      <td>1993.0</td>\n",
       "      <td>TV-MA</td>\n",
       "      <td>125 min</td>\n",
       "      <td>Dramas, Independent Movies, International Movies</td>\n",
       "    </tr>\n",
       "    <tr>\n",
       "      <th>...</th>\n",
       "      <td>...</td>\n",
       "      <td>...</td>\n",
       "      <td>...</td>\n",
       "      <td>...</td>\n",
       "      <td>...</td>\n",
       "      <td>...</td>\n",
       "      <td>...</td>\n",
       "      <td>...</td>\n",
       "      <td>...</td>\n",
       "      <td>...</td>\n",
       "    </tr>\n",
       "    <tr>\n",
       "      <th>8788</th>\n",
       "      <td>s8784</td>\n",
       "      <td>TV Show</td>\n",
       "      <td>Yoko</td>\n",
       "      <td>Not Given</td>\n",
       "      <td>Pakistan</td>\n",
       "      <td>6/23/2018</td>\n",
       "      <td>2016.0</td>\n",
       "      <td>TV-Y</td>\n",
       "      <td>1 Season</td>\n",
       "      <td>Kids' TV</td>\n",
       "    </tr>\n",
       "    <tr>\n",
       "      <th>8789</th>\n",
       "      <td>s8786</td>\n",
       "      <td>TV Show</td>\n",
       "      <td>YOM</td>\n",
       "      <td>Not Given</td>\n",
       "      <td>Pakistan</td>\n",
       "      <td>6/7/2018</td>\n",
       "      <td>2016.0</td>\n",
       "      <td>TV-Y7</td>\n",
       "      <td>1 Season</td>\n",
       "      <td>Kids' TV</td>\n",
       "    </tr>\n",
       "    <tr>\n",
       "      <th>8790</th>\n",
       "      <td>s8786</td>\n",
       "      <td>TV Show</td>\n",
       "      <td>YOM</td>\n",
       "      <td>Not Given</td>\n",
       "      <td>Pakistan</td>\n",
       "      <td>6/7/2018</td>\n",
       "      <td>2016.0</td>\n",
       "      <td>TV-Y7</td>\n",
       "      <td>1 Season</td>\n",
       "      <td>Kids' TV</td>\n",
       "    </tr>\n",
       "    <tr>\n",
       "      <th>8791</th>\n",
       "      <td>s8786</td>\n",
       "      <td>TV Show</td>\n",
       "      <td>YOM</td>\n",
       "      <td>Not Given</td>\n",
       "      <td>Pakistan</td>\n",
       "      <td>6/7/2018</td>\n",
       "      <td>2016.0</td>\n",
       "      <td>TV-Y7</td>\n",
       "      <td>1 Season</td>\n",
       "      <td>Kids' TV</td>\n",
       "    </tr>\n",
       "    <tr>\n",
       "      <th>8792</th>\n",
       "      <td>s8786</td>\n",
       "      <td>TV Show</td>\n",
       "      <td>YOM</td>\n",
       "      <td>Not Given</td>\n",
       "      <td>Pakistan</td>\n",
       "      <td>6/7/2018</td>\n",
       "      <td>2016.0</td>\n",
       "      <td>TV-Y7</td>\n",
       "      <td>1 Season</td>\n",
       "      <td>Kids' TV</td>\n",
       "    </tr>\n",
       "  </tbody>\n",
       "</table>\n",
       "<p>8723 rows × 10 columns</p>\n",
       "</div>"
      ],
      "text/plain": [
       "     show_id     type                             title         director  \\\n",
       "0         s1    Movie              Dick Johnson Is Dead  Kirsten Johnson   \n",
       "1         s3  TV Show                         Ganglands  Julien Leclercq   \n",
       "2         s6  TV Show                     Midnight Mass    Mike Flanagan   \n",
       "3        s14    Movie  Confessions of an Invisible Girl    Bruno Garotti   \n",
       "4         s8    Movie                           Sankofa     Haile Gerima   \n",
       "...      ...      ...                               ...              ...   \n",
       "8788   s8784  TV Show                              Yoko        Not Given   \n",
       "8789   s8786  TV Show                               YOM        Not Given   \n",
       "8790   s8786  TV Show                               YOM        Not Given   \n",
       "8791   s8786  TV Show                               YOM        Not Given   \n",
       "8792   s8786  TV Show                               YOM        Not Given   \n",
       "\n",
       "            country date_added  release_year rating  duration  \\\n",
       "0     United States  9/25/2021        2020.0  PG-13    90 min   \n",
       "1            France  9/24/2021        2021.0  TV-MA  1 Season   \n",
       "2     United States  9/24/2021        2021.0  TV-MA  1 Season   \n",
       "3            Brazil  9/22/2021        2021.0  TV-PG    91 min   \n",
       "4     United States  9/24/2021        1993.0  TV-MA   125 min   \n",
       "...             ...        ...           ...    ...       ...   \n",
       "8788       Pakistan  6/23/2018        2016.0   TV-Y  1 Season   \n",
       "8789       Pakistan   6/7/2018        2016.0  TV-Y7  1 Season   \n",
       "8790       Pakistan   6/7/2018        2016.0  TV-Y7  1 Season   \n",
       "8791       Pakistan   6/7/2018        2016.0  TV-Y7  1 Season   \n",
       "8792       Pakistan   6/7/2018        2016.0  TV-Y7  1 Season   \n",
       "\n",
       "                                              listed_in  \n",
       "0                                         Documentaries  \n",
       "1     Crime TV Shows, International TV Shows, TV Act...  \n",
       "2                    TV Dramas, TV Horror, TV Mysteries  \n",
       "3                    Children & Family Movies, Comedies  \n",
       "4      Dramas, Independent Movies, International Movies  \n",
       "...                                                 ...  \n",
       "8788                                           Kids' TV  \n",
       "8789                                           Kids' TV  \n",
       "8790                                           Kids' TV  \n",
       "8791                                           Kids' TV  \n",
       "8792                                           Kids' TV  \n",
       "\n",
       "[8723 rows x 10 columns]"
      ]
     },
     "execution_count": 6,
     "metadata": {},
     "output_type": "execute_result"
    }
   ],
   "source": [
    "netflix.dropna()"
   ]
  },
  {
   "cell_type": "code",
   "execution_count": 7,
   "id": "d19c58bf-ffca-49b1-9022-f36ad9c40150",
   "metadata": {},
   "outputs": [
    {
     "data": {
      "text/plain": [
       "(8793, 10)"
      ]
     },
     "execution_count": 7,
     "metadata": {},
     "output_type": "execute_result"
    }
   ],
   "source": [
    "netflix.shape"
   ]
  },
  {
   "cell_type": "code",
   "execution_count": 9,
   "id": "20fdc484-e761-4cd7-be31-b72f2b25a00d",
   "metadata": {},
   "outputs": [
    {
     "data": {
      "text/plain": [
       "show_id          object\n",
       "type             object\n",
       "title            object\n",
       "director         object\n",
       "country          object\n",
       "date_added       object\n",
       "release_year    float64\n",
       "rating           object\n",
       "duration         object\n",
       "listed_in        object\n",
       "dtype: object"
      ]
     },
     "execution_count": 9,
     "metadata": {},
     "output_type": "execute_result"
    }
   ],
   "source": [
    "netflix.dtypes"
   ]
  },
  {
   "cell_type": "code",
   "execution_count": 10,
   "id": "189d90be-c99a-4535-91fb-df5caeabc5a0",
   "metadata": {},
   "outputs": [],
   "source": [
    "netflix['date_added'] = pd.to_datetime(netflix['date_added'], errors='coerce')"
   ]
  },
  {
   "cell_type": "code",
   "execution_count": 11,
   "id": "50aeef33-3f55-4857-8192-87dd75f22f64",
   "metadata": {},
   "outputs": [],
   "source": [
    "netflix['date_added'] = pd.to_datetime(netflix['date_added'])"
   ]
  },
  {
   "cell_type": "code",
   "execution_count": 12,
   "id": "1f00e301-ce47-4b5f-87cc-dd637ca7b9cc",
   "metadata": {},
   "outputs": [
    {
     "name": "stdout",
     "output_type": "stream",
     "text": [
      "<class 'pandas.core.frame.DataFrame'>\n",
      "RangeIndex: 8793 entries, 0 to 8792\n",
      "Data columns (total 10 columns):\n",
      " #   Column        Non-Null Count  Dtype         \n",
      "---  ------        --------------  -----         \n",
      " 0   show_id       8793 non-null   object        \n",
      " 1   type          8793 non-null   object        \n",
      " 2   title         8791 non-null   object        \n",
      " 3   director      8740 non-null   object        \n",
      " 4   country       8786 non-null   object        \n",
      " 5   date_added    8791 non-null   datetime64[ns]\n",
      " 6   release_year  8792 non-null   float64       \n",
      " 7   rating        8793 non-null   object        \n",
      " 8   duration      8787 non-null   object        \n",
      " 9   listed_in     8791 non-null   object        \n",
      "dtypes: datetime64[ns](1), float64(1), object(8)\n",
      "memory usage: 687.1+ KB\n"
     ]
    }
   ],
   "source": [
    "netflix.info()"
   ]
  },
  {
   "cell_type": "code",
   "execution_count": 14,
   "id": "72c2b211-a285-4010-a43d-0118ae609bd7",
   "metadata": {},
   "outputs": [
    {
     "name": "stdout",
     "output_type": "stream",
     "text": [
      "     show_id     type                             title         director  \\\n",
      "0         s1    Movie              Dick Johnson Is Dead  Kirsten Johnson   \n",
      "1         s3  TV Show                         Ganglands  Julien Leclercq   \n",
      "2         s6  TV Show                     Midnight Mass    Mike Flanagan   \n",
      "3        s14    Movie  Confessions of an Invisible Girl    Bruno Garotti   \n",
      "4         s8    Movie                           Sankofa     Haile Gerima   \n",
      "...      ...      ...                               ...              ...   \n",
      "8788   s8784  TV Show                              Yoko        Not Given   \n",
      "8789   s8786  TV Show                               YOM        Not Given   \n",
      "8790   s8786  TV Show                               YOM        Not Given   \n",
      "8791   s8786  TV Show                               YOM        Not Given   \n",
      "8792   s8786  TV Show                               YOM        Not Given   \n",
      "\n",
      "            country date_added  release_year rating  duration  \\\n",
      "0     United States 2021-09-25        2020.0  PG-13    90 min   \n",
      "1            France 2021-09-24        2021.0  TV-MA  1 Season   \n",
      "2     United States 2021-09-24        2021.0  TV-MA  1 Season   \n",
      "3            Brazil 2021-09-22        2021.0  TV-PG    91 min   \n",
      "4     United States 2021-09-24        1993.0  TV-MA   125 min   \n",
      "...             ...        ...           ...    ...       ...   \n",
      "8788       Pakistan 2018-06-23        2016.0   TV-Y  1 Season   \n",
      "8789       Pakistan 2018-06-07        2016.0  TV-Y7  1 Season   \n",
      "8790       Pakistan 2018-06-07        2016.0  TV-Y7  1 Season   \n",
      "8791       Pakistan 2018-06-07        2016.0  TV-Y7  1 Season   \n",
      "8792       Pakistan 2018-06-07        2016.0  TV-Y7  1 Season   \n",
      "\n",
      "                                              listed_in  \n",
      "0                                         Documentaries  \n",
      "1     Crime TV Shows, International TV Shows, TV Act...  \n",
      "2                    TV Dramas, TV Horror, TV Mysteries  \n",
      "3                    Children & Family Movies, Comedies  \n",
      "4      Dramas, Independent Movies, International Movies  \n",
      "...                                                 ...  \n",
      "8788                                           Kids' TV  \n",
      "8789                                           Kids' TV  \n",
      "8790                                           Kids' TV  \n",
      "8791                                           Kids' TV  \n",
      "8792                                           Kids' TV  \n",
      "\n",
      "[8793 rows x 10 columns]\n"
     ]
    }
   ],
   "source": [
    "print(netflix)"
   ]
  },
  {
   "cell_type": "code",
   "execution_count": 15,
   "id": "50da42da-52e2-4085-851f-67e79718a2af",
   "metadata": {},
   "outputs": [],
   "source": [
    "data = {\n",
    "    'title': ['Movie A', 'TV Show B', 'Movie C', 'TV Show D'],\n",
    "    'duration': ['120 min', '3 Seasons', '95 min', '5 Seasons']\n",
    "}"
   ]
  },
  {
   "cell_type": "code",
   "execution_count": 16,
   "id": "6ad05d12-762a-4bba-9d5c-2cb80d0f097d",
   "metadata": {},
   "outputs": [
    {
     "name": "stdout",
     "output_type": "stream",
     "text": [
      "DataFrame contents:\n",
      "       title   duration\n",
      "0    Movie A    120 min\n",
      "1  TV Show B  3 Seasons\n",
      "2    Movie C     95 min\n",
      "3  TV Show D  5 Seasons\n",
      "\n",
      "Modified DataFrame:\n",
      "       title   duration  duration_min  seasons\n",
      "0    Movie A    120 min         120.0      NaN\n",
      "1  TV Show B  3 Seasons           NaN      3.0\n",
      "2    Movie C     95 min          95.0      NaN\n",
      "3  TV Show D  5 Seasons           NaN      5.0\n",
      "\n",
      "Data Types:\n",
      "title            object\n",
      "duration         object\n",
      "duration_min    float64\n",
      "seasons         float64\n",
      "dtype: object\n"
     ]
    }
   ],
   "source": [
    "df = pd.DataFrame(data)\n",
    "\n",
    "print(\"DataFrame contents:\")\n",
    "print(df)\n",
    "\n",
    "df['duration_min'] = df['duration'].str.extract(r'(\\d+)\\s*min', expand=False)\n",
    "df['seasons'] = df['duration'].str.extract(r'(\\d+)\\s*Seasons', expand=False)\n",
    "\n",
    "\n",
    "df['duration_min'] = pd.to_numeric(df['duration_min'], errors='coerce')\n",
    "df['seasons'] = pd.to_numeric(df['seasons'], errors='coerce')\n",
    "\n",
    "\n",
    "print(\"\\nModified DataFrame:\")\n",
    "print(df)\n",
    "\n",
    "print(\"\\nData Types:\")\n",
    "print(df.dtypes)\n"
   ]
  },
  {
   "cell_type": "code",
   "execution_count": 17,
   "id": "5dc6ce2d-4459-4f83-b08a-0fc8e0163403",
   "metadata": {},
   "outputs": [
    {
     "name": "stdout",
     "output_type": "stream",
     "text": [
      "       title   duration  duration_min  seasons\n",
      "0    Movie A    120 min         120.0      NaN\n",
      "1  TV Show B  3 Seasons           NaN      3.0\n",
      "2    Movie C     95 min          95.0      NaN\n",
      "3  TV Show D  5 Seasons           NaN      5.0\n"
     ]
    }
   ],
   "source": [
    "print(df)\n"
   ]
  },
  {
   "cell_type": "code",
   "execution_count": 18,
   "id": "4234268a-dd7d-4a2f-9aca-b1f54bfae1fc",
   "metadata": {},
   "outputs": [],
   "source": [
    "duplicate_rows = df[df.duplicated()]"
   ]
  },
  {
   "cell_type": "code",
   "execution_count": 19,
   "id": "f22bb93d-abf0-45dc-ae2c-3b7d3b46dd85",
   "metadata": {},
   "outputs": [
    {
     "name": "stdout",
     "output_type": "stream",
     "text": [
      "Number of duplicate rows: 0\n"
     ]
    },
    {
     "data": {
      "text/html": [
       "<div>\n",
       "<style scoped>\n",
       "    .dataframe tbody tr th:only-of-type {\n",
       "        vertical-align: middle;\n",
       "    }\n",
       "\n",
       "    .dataframe tbody tr th {\n",
       "        vertical-align: top;\n",
       "    }\n",
       "\n",
       "    .dataframe thead th {\n",
       "        text-align: right;\n",
       "    }\n",
       "</style>\n",
       "<table border=\"1\" class=\"dataframe\">\n",
       "  <thead>\n",
       "    <tr style=\"text-align: right;\">\n",
       "      <th></th>\n",
       "      <th>title</th>\n",
       "      <th>duration</th>\n",
       "      <th>duration_min</th>\n",
       "      <th>seasons</th>\n",
       "    </tr>\n",
       "  </thead>\n",
       "  <tbody>\n",
       "  </tbody>\n",
       "</table>\n",
       "</div>"
      ],
      "text/plain": [
       "Empty DataFrame\n",
       "Columns: [title, duration, duration_min, seasons]\n",
       "Index: []"
      ]
     },
     "execution_count": 19,
     "metadata": {},
     "output_type": "execute_result"
    }
   ],
   "source": [
    "print(f\"Number of duplicate rows: {duplicate_rows.shape[0]}\")\n",
    "duplicate_rows"
   ]
  },
  {
   "cell_type": "code",
   "execution_count": 20,
   "id": "198fcc37-b4f1-4d08-8b08-4120279b53c1",
   "metadata": {},
   "outputs": [],
   "source": [
    "df_cleaned = df.drop_duplicates()"
   ]
  },
  {
   "cell_type": "code",
   "execution_count": 21,
   "id": "9ce588dc-257f-4876-a518-4d275f47fd01",
   "metadata": {},
   "outputs": [
    {
     "name": "stdout",
     "output_type": "stream",
     "text": [
      "Number of rows after removing duplicates: 4\n"
     ]
    }
   ],
   "source": [
    "print(f\"Number of rows after removing duplicates: {df_cleaned.shape[0]}\")"
   ]
  },
  {
   "cell_type": "code",
   "execution_count": 22,
   "id": "81c9a1cf-bfae-4ea1-86d2-2c29a3e6c971",
   "metadata": {},
   "outputs": [],
   "source": [
    "df_cleaned.to_csv('cleaned_file.csv', index=False)"
   ]
  },
  {
   "cell_type": "code",
   "execution_count": 23,
   "id": "401312a5-16db-4a6d-8740-6cbd785de170",
   "metadata": {},
   "outputs": [
    {
     "name": "stdout",
     "output_type": "stream",
     "text": [
      "       title   duration  duration_min  seasons\n",
      "0    Movie A    120 min         120.0      NaN\n",
      "1  TV Show B  3 Seasons           NaN      3.0\n",
      "2    Movie C     95 min          95.0      NaN\n",
      "3  TV Show D  5 Seasons           NaN      5.0\n"
     ]
    }
   ],
   "source": [
    "print(df_cleaned)"
   ]
  },
  {
   "cell_type": "code",
   "execution_count": 24,
   "id": "ba9c4415-d3a6-4492-a080-feffe5cb7182",
   "metadata": {},
   "outputs": [],
   "source": [
    "# Convert 'type', 'rating', and 'listed_in' columns to categorical types\n",
    "netflix['type'] = netflix['type'].astype('category')\n",
    "netflix['rating'] = netflix['rating'].astype('category')\n",
    "netflix['listed_in'] = netflix['listed_in'].astype('category')"
   ]
  },
  {
   "cell_type": "code",
   "execution_count": 25,
   "id": "b59dd670-9f2d-4f91-9f9f-7896db64940c",
   "metadata": {},
   "outputs": [
    {
     "name": "stdout",
     "output_type": "stream",
     "text": [
      "<class 'pandas.core.frame.DataFrame'>\n",
      "RangeIndex: 8793 entries, 0 to 8792\n",
      "Data columns (total 10 columns):\n",
      " #   Column        Non-Null Count  Dtype         \n",
      "---  ------        --------------  -----         \n",
      " 0   show_id       8793 non-null   object        \n",
      " 1   type          8793 non-null   category      \n",
      " 2   title         8791 non-null   object        \n",
      " 3   director      8740 non-null   object        \n",
      " 4   country       8786 non-null   object        \n",
      " 5   date_added    8791 non-null   datetime64[ns]\n",
      " 6   release_year  8792 non-null   float64       \n",
      " 7   rating        8793 non-null   category      \n",
      " 8   duration      8787 non-null   object        \n",
      " 9   listed_in     8791 non-null   category      \n",
      "dtypes: category(3), datetime64[ns](1), float64(1), object(5)\n",
      "memory usage: 536.3+ KB\n"
     ]
    }
   ],
   "source": [
    "netflix.info()"
   ]
  },
  {
   "cell_type": "code",
   "execution_count": 26,
   "id": "071c6fdb-6fac-4fe2-a480-4985efc71791",
   "metadata": {},
   "outputs": [],
   "source": [
    "netflix['decade'] = (netflix['release_year'] // 10 * 10).astype(str)"
   ]
  },
  {
   "cell_type": "code",
   "execution_count": 27,
   "id": "d0a5dd14-d4d0-4ff3-85bb-a9b9b375b6d8",
   "metadata": {},
   "outputs": [
    {
     "data": {
      "text/html": [
       "<div>\n",
       "<style scoped>\n",
       "    .dataframe tbody tr th:only-of-type {\n",
       "        vertical-align: middle;\n",
       "    }\n",
       "\n",
       "    .dataframe tbody tr th {\n",
       "        vertical-align: top;\n",
       "    }\n",
       "\n",
       "    .dataframe thead th {\n",
       "        text-align: right;\n",
       "    }\n",
       "</style>\n",
       "<table border=\"1\" class=\"dataframe\">\n",
       "  <thead>\n",
       "    <tr style=\"text-align: right;\">\n",
       "      <th></th>\n",
       "      <th>show_id</th>\n",
       "      <th>type</th>\n",
       "      <th>title</th>\n",
       "      <th>director</th>\n",
       "      <th>country</th>\n",
       "      <th>date_added</th>\n",
       "      <th>release_year</th>\n",
       "      <th>rating</th>\n",
       "      <th>duration</th>\n",
       "      <th>listed_in</th>\n",
       "      <th>decade</th>\n",
       "    </tr>\n",
       "  </thead>\n",
       "  <tbody>\n",
       "    <tr>\n",
       "      <th>0</th>\n",
       "      <td>s1</td>\n",
       "      <td>Movie</td>\n",
       "      <td>Dick Johnson Is Dead</td>\n",
       "      <td>Kirsten Johnson</td>\n",
       "      <td>United States</td>\n",
       "      <td>2021-09-25</td>\n",
       "      <td>2020.0</td>\n",
       "      <td>PG-13</td>\n",
       "      <td>90 min</td>\n",
       "      <td>Documentaries</td>\n",
       "      <td>2020.0</td>\n",
       "    </tr>\n",
       "    <tr>\n",
       "      <th>1</th>\n",
       "      <td>s3</td>\n",
       "      <td>TV Show</td>\n",
       "      <td>Ganglands</td>\n",
       "      <td>Julien Leclercq</td>\n",
       "      <td>France</td>\n",
       "      <td>2021-09-24</td>\n",
       "      <td>2021.0</td>\n",
       "      <td>TV-MA</td>\n",
       "      <td>1 Season</td>\n",
       "      <td>Crime TV Shows, International TV Shows, TV Act...</td>\n",
       "      <td>2020.0</td>\n",
       "    </tr>\n",
       "    <tr>\n",
       "      <th>2</th>\n",
       "      <td>s6</td>\n",
       "      <td>TV Show</td>\n",
       "      <td>Midnight Mass</td>\n",
       "      <td>Mike Flanagan</td>\n",
       "      <td>United States</td>\n",
       "      <td>2021-09-24</td>\n",
       "      <td>2021.0</td>\n",
       "      <td>TV-MA</td>\n",
       "      <td>1 Season</td>\n",
       "      <td>TV Dramas, TV Horror, TV Mysteries</td>\n",
       "      <td>2020.0</td>\n",
       "    </tr>\n",
       "    <tr>\n",
       "      <th>3</th>\n",
       "      <td>s14</td>\n",
       "      <td>Movie</td>\n",
       "      <td>Confessions of an Invisible Girl</td>\n",
       "      <td>Bruno Garotti</td>\n",
       "      <td>Brazil</td>\n",
       "      <td>2021-09-22</td>\n",
       "      <td>2021.0</td>\n",
       "      <td>TV-PG</td>\n",
       "      <td>91 min</td>\n",
       "      <td>Children &amp; Family Movies, Comedies</td>\n",
       "      <td>2020.0</td>\n",
       "    </tr>\n",
       "    <tr>\n",
       "      <th>4</th>\n",
       "      <td>s8</td>\n",
       "      <td>Movie</td>\n",
       "      <td>Sankofa</td>\n",
       "      <td>Haile Gerima</td>\n",
       "      <td>United States</td>\n",
       "      <td>2021-09-24</td>\n",
       "      <td>1993.0</td>\n",
       "      <td>TV-MA</td>\n",
       "      <td>125 min</td>\n",
       "      <td>Dramas, Independent Movies, International Movies</td>\n",
       "      <td>1990.0</td>\n",
       "    </tr>\n",
       "  </tbody>\n",
       "</table>\n",
       "</div>"
      ],
      "text/plain": [
       "  show_id     type                             title         director  \\\n",
       "0      s1    Movie              Dick Johnson Is Dead  Kirsten Johnson   \n",
       "1      s3  TV Show                         Ganglands  Julien Leclercq   \n",
       "2      s6  TV Show                     Midnight Mass    Mike Flanagan   \n",
       "3     s14    Movie  Confessions of an Invisible Girl    Bruno Garotti   \n",
       "4      s8    Movie                           Sankofa     Haile Gerima   \n",
       "\n",
       "         country date_added  release_year rating  duration  \\\n",
       "0  United States 2021-09-25        2020.0  PG-13    90 min   \n",
       "1         France 2021-09-24        2021.0  TV-MA  1 Season   \n",
       "2  United States 2021-09-24        2021.0  TV-MA  1 Season   \n",
       "3         Brazil 2021-09-22        2021.0  TV-PG    91 min   \n",
       "4  United States 2021-09-24        1993.0  TV-MA   125 min   \n",
       "\n",
       "                                           listed_in  decade  \n",
       "0                                      Documentaries  2020.0  \n",
       "1  Crime TV Shows, International TV Shows, TV Act...  2020.0  \n",
       "2                 TV Dramas, TV Horror, TV Mysteries  2020.0  \n",
       "3                 Children & Family Movies, Comedies  2020.0  \n",
       "4   Dramas, Independent Movies, International Movies  1990.0  "
      ]
     },
     "execution_count": 27,
     "metadata": {},
     "output_type": "execute_result"
    }
   ],
   "source": [
    "netflix.head()"
   ]
  },
  {
   "cell_type": "code",
   "execution_count": 29,
   "id": "cc84863a-1c23-4f7a-a225-5c991e1ee01b",
   "metadata": {},
   "outputs": [
    {
     "name": "stdout",
     "output_type": "stream",
     "text": [
      "   duration  duration_numeric length_category\n",
      "0    90 min                90          medium\n",
      "1  1 Season                 1           short\n",
      "2  1 Season                 1           short\n",
      "3    91 min                91          medium\n",
      "4   125 min               125            long\n"
     ]
    },
    {
     "name": "stderr",
     "output_type": "stream",
     "text": [
      "/var/folders/dw/z8w40lyn4x945vhqd4wy2g7c0000gp/T/ipykernel_61435/1972489125.py:5: SettingWithCopyWarning: \n",
      "A value is trying to be set on a copy of a slice from a DataFrame.\n",
      "Try using .loc[row_indexer,col_indexer] = value instead\n",
      "\n",
      "See the caveats in the documentation: https://pandas.pydata.org/pandas-docs/stable/user_guide/indexing.html#returning-a-view-versus-a-copy\n",
      "  movies_df['duration_numeric'] = movies_df['duration'].str.extract(r'(\\d+)').astype(float).astype(int)\n",
      "/var/folders/dw/z8w40lyn4x945vhqd4wy2g7c0000gp/T/ipykernel_61435/1972489125.py:12: SettingWithCopyWarning: \n",
      "A value is trying to be set on a copy of a slice from a DataFrame.\n",
      "Try using .loc[row_indexer,col_indexer] = value instead\n",
      "\n",
      "See the caveats in the documentation: https://pandas.pydata.org/pandas-docs/stable/user_guide/indexing.html#returning-a-view-versus-a-copy\n",
      "  movies_df['length_category'] = pd.cut(movies_df['duration_numeric'], bins=bins, labels=labels, right=False)\n"
     ]
    }
   ],
   "source": [
    "# Handle NaN values in 'duration' by dropping them (or alternatively, use fillna('0 min') to set a default value)\n",
    "movies_df = netflix.dropna(subset=['duration'])\n",
    "\n",
    "# Extract numeric part of 'duration' and convert to integer\n",
    "movies_df['duration_numeric'] = movies_df['duration'].str.extract(r'(\\d+)').astype(float).astype(int)\n",
    "\n",
    "# Define bins and labels for categorizing length\n",
    "bins = [0, 90, 120, float('inf')]\n",
    "labels = ['short', 'medium', 'long']\n",
    "\n",
    "# Create the 'length_category' column\n",
    "movies_df['length_category'] = pd.cut(movies_df['duration_numeric'], bins=bins, labels=labels, right=False)\n",
    "\n",
    "# Check the results\n",
    "print(movies_df[['duration', 'duration_numeric', 'length_category']].head())"
   ]
  },
  {
   "cell_type": "code",
   "execution_count": 30,
   "id": "29cf43f7-aa51-4882-b948-915973388934",
   "metadata": {},
   "outputs": [],
   "source": [
    "genre_count = movies_df['listed_in'].value_counts()\n"
   ]
  },
  {
   "cell_type": "code",
   "execution_count": 31,
   "id": "c2ba6ec1-20cf-4dbc-b4a0-5bb9b61b6553",
   "metadata": {},
   "outputs": [
    {
     "name": "stdout",
     "output_type": "stream",
     "text": [
      "listed_in\n",
      "Dramas, International Movies                                    362\n",
      "Documentaries                                                   359\n",
      "Stand-Up Comedy                                                 334\n",
      "Comedies, Dramas, International Movies                          274\n",
      "Dramas, Independent Movies, International Movies                252\n",
      "                                                               ... \n",
      "Comedies, Cult Movies, LGBTQ Movies                               1\n",
      "International TV Shows, Spanish-Language TV Shows, TV Horror      1\n",
      "Comedies, Cult Movies, Independent Movies                         1\n",
      "Crime TV Shows, TV Action & Adventure, TV Sci-Fi & Fantasy        1\n",
      "Docuseries, TV Sci-Fi & Fantasy                                   0\n",
      "Name: count, Length: 513, dtype: int64\n"
     ]
    }
   ],
   "source": [
    "print(genre_count)"
   ]
  },
  {
   "cell_type": "code",
   "execution_count": 32,
   "id": "619fa3a6-c47a-4929-8c0c-5c116497f2d2",
   "metadata": {},
   "outputs": [],
   "source": [
    "top_countries = movies_df['country'].value_counts()"
   ]
  },
  {
   "cell_type": "code",
   "execution_count": 33,
   "id": "a1a0dbd9-8e5f-4e0d-a89d-1f77959d8ce4",
   "metadata": {},
   "outputs": [
    {
     "name": "stdout",
     "output_type": "stream",
     "text": [
      "country\n",
      "United States     3239\n",
      "India             1056\n",
      "United Kingdom     636\n",
      "Pakistan           420\n",
      "Not Given          287\n",
      "                  ... \n",
      "Iran                 1\n",
      "West Germany         1\n",
      "Greece               1\n",
      "Zimbabwe             1\n",
      "Soviet Union         1\n",
      "Name: count, Length: 86, dtype: int64\n"
     ]
    }
   ],
   "source": [
    "print(top_countries)"
   ]
  },
  {
   "cell_type": "code",
   "execution_count": 34,
   "id": "9dfcdc23-8e64-4fd3-b6a6-4cb393d054f6",
   "metadata": {},
   "outputs": [],
   "source": [
    "rating_counts = movies_df['rating'].value_counts()"
   ]
  },
  {
   "cell_type": "code",
   "execution_count": 35,
   "id": "f3a108a4-1372-4252-9698-c10c11361a2c",
   "metadata": {},
   "outputs": [
    {
     "name": "stdout",
     "output_type": "stream",
     "text": [
      "rating\n",
      "TV-MA       3202\n",
      "TV-14       2156\n",
      "TV-PG        860\n",
      "R            799\n",
      "PG-13        490\n",
      "TV-Y7        335\n",
      "TV-Y         306\n",
      "PG           287\n",
      "TV-G         220\n",
      "NR            79\n",
      "G             41\n",
      "TV-Y7-FV       6\n",
      "NC-17          3\n",
      "UR             3\n",
      "Name: count, dtype: int64\n"
     ]
    }
   ],
   "source": [
    "print(rating_counts)"
   ]
  },
  {
   "cell_type": "code",
   "execution_count": 36,
   "id": "26c00dc4-eabb-4b4a-b324-5b3b2abd3f89",
   "metadata": {},
   "outputs": [],
   "source": [
    "directors = movies_df['director'].value_counts()"
   ]
  },
  {
   "cell_type": "code",
   "execution_count": 37,
   "id": "3a1f55be-9208-4860-9b0f-0ff019e649d3",
   "metadata": {},
   "outputs": [
    {
     "name": "stdout",
     "output_type": "stream",
     "text": [
      "director\n",
      "Not Given                         2535\n",
      "Rajiv Chilaka                       20\n",
      "Alastair Fothergill                 18\n",
      "Raúl Campos, Jan Suter              18\n",
      "Marcus Raboy                        16\n",
      "                                  ... \n",
      "Scott McAboy                         1\n",
      "Raymie Muzquiz, Stu Livingston       1\n",
      "Joe Menendez                         1\n",
      "Eric Bross                           1\n",
      "Mozez Singh                          1\n",
      "Name: count, Length: 4526, dtype: int64\n"
     ]
    }
   ],
   "source": [
    "print(directors)"
   ]
  },
  {
   "cell_type": "code",
   "execution_count": 38,
   "id": "f6e13b3d-c1a8-4cc8-b648-7136a8f75e0d",
   "metadata": {},
   "outputs": [],
   "source": [
    "yearly_content_trend = movies_df['release_year'].value_counts().sort_index()"
   ]
  },
  {
   "cell_type": "code",
   "execution_count": 39,
   "id": "a1b7a3f9-f7cf-4ca9-b9a0-f90379e1a156",
   "metadata": {},
   "outputs": [
    {
     "name": "stdout",
     "output_type": "stream",
     "text": [
      "release_year\n",
      "1925.0       1\n",
      "1942.0       2\n",
      "1943.0       3\n",
      "1944.0       3\n",
      "1945.0       4\n",
      "          ... \n",
      "2017.0    1030\n",
      "2018.0    1146\n",
      "2019.0    1028\n",
      "2020.0     949\n",
      "2021.0     592\n",
      "Name: count, Length: 74, dtype: int64\n"
     ]
    }
   ],
   "source": [
    "print(yearly_content_trend)"
   ]
  },
  {
   "cell_type": "code",
   "execution_count": null,
   "id": "3783354f-994c-4e44-9685-411f1601937c",
   "metadata": {},
   "outputs": [],
   "source": []
  },
  {
   "cell_type": "code",
   "execution_count": null,
   "id": "b0c0ca04-ac70-4a7d-8d0b-077ce9314be7",
   "metadata": {},
   "outputs": [],
   "source": []
  },
  {
   "cell_type": "code",
   "execution_count": null,
   "id": "d1b62bea-0f22-4e11-8565-3bc33c49e64c",
   "metadata": {},
   "outputs": [],
   "source": []
  },
  {
   "cell_type": "code",
   "execution_count": null,
   "id": "6b90023d-e633-4c35-801c-db07ecfd1d6d",
   "metadata": {},
   "outputs": [],
   "source": []
  },
  {
   "cell_type": "code",
   "execution_count": null,
   "id": "949ceefa-4cf2-49e1-9a31-909e0b2c07b7",
   "metadata": {},
   "outputs": [],
   "source": []
  }
 ],
 "metadata": {
  "kernelspec": {
   "display_name": "Python 3 (ipykernel)",
   "language": "python",
   "name": "python3"
  },
  "language_info": {
   "codemirror_mode": {
    "name": "ipython",
    "version": 3
   },
   "file_extension": ".py",
   "mimetype": "text/x-python",
   "name": "python",
   "nbconvert_exporter": "python",
   "pygments_lexer": "ipython3",
   "version": "3.12.5"
  }
 },
 "nbformat": 4,
 "nbformat_minor": 5
}
